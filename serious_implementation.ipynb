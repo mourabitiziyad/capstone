{
 "cells": [
  {
   "cell_type": "code",
   "execution_count": 1,
   "metadata": {},
   "outputs": [
    {
     "name": "stdout",
     "output_type": "stream",
     "text": [
      "Requirement already satisfied: py-heat-magic in /usr/local/anaconda3/lib/python3.9/site-packages (0.0.2)\n",
      "Requirement already satisfied: ipython in /usr/local/anaconda3/lib/python3.9/site-packages (from py-heat-magic) (7.29.0)\n",
      "Requirement already satisfied: scipy in /usr/local/anaconda3/lib/python3.9/site-packages (from py-heat-magic) (1.7.1)\n",
      "Requirement already satisfied: nose in /usr/local/anaconda3/lib/python3.9/site-packages (from py-heat-magic) (1.3.7)\n",
      "Requirement already satisfied: numpy in /usr/local/anaconda3/lib/python3.9/site-packages (from py-heat-magic) (1.20.3)\n",
      "Requirement already satisfied: matplotlib in /usr/local/anaconda3/lib/python3.9/site-packages (from py-heat-magic) (3.4.3)\n",
      "Requirement already satisfied: pandas in /usr/local/anaconda3/lib/python3.9/site-packages (from py-heat-magic) (1.3.4)\n",
      "Requirement already satisfied: jupyter in /usr/local/anaconda3/lib/python3.9/site-packages (from py-heat-magic) (1.0.0)\n",
      "Requirement already satisfied: sympy in /usr/local/anaconda3/lib/python3.9/site-packages (from py-heat-magic) (1.9)\n",
      "Requirement already satisfied: py-heat in /usr/local/anaconda3/lib/python3.9/site-packages (from py-heat-magic) (0.0.6)\n",
      "Requirement already satisfied: traitlets>=4.2 in /usr/local/anaconda3/lib/python3.9/site-packages (from ipython->py-heat-magic) (5.1.0)\n",
      "Requirement already satisfied: pickleshare in /usr/local/anaconda3/lib/python3.9/site-packages (from ipython->py-heat-magic) (0.7.5)\n",
      "Requirement already satisfied: prompt-toolkit!=3.0.0,!=3.0.1,<3.1.0,>=2.0.0 in /usr/local/anaconda3/lib/python3.9/site-packages (from ipython->py-heat-magic) (3.0.20)\n",
      "Requirement already satisfied: pexpect>4.3 in /usr/local/anaconda3/lib/python3.9/site-packages (from ipython->py-heat-magic) (4.8.0)\n",
      "Requirement already satisfied: pygments in /usr/local/anaconda3/lib/python3.9/site-packages (from ipython->py-heat-magic) (2.10.0)\n",
      "Requirement already satisfied: matplotlib-inline in /usr/local/anaconda3/lib/python3.9/site-packages (from ipython->py-heat-magic) (0.1.2)\n",
      "Requirement already satisfied: backcall in /usr/local/anaconda3/lib/python3.9/site-packages (from ipython->py-heat-magic) (0.2.0)\n",
      "Requirement already satisfied: decorator in /usr/local/anaconda3/lib/python3.9/site-packages (from ipython->py-heat-magic) (5.1.0)\n",
      "Requirement already satisfied: appnope in /usr/local/anaconda3/lib/python3.9/site-packages (from ipython->py-heat-magic) (0.1.2)\n",
      "Requirement already satisfied: setuptools>=18.5 in /usr/local/anaconda3/lib/python3.9/site-packages (from ipython->py-heat-magic) (58.0.4)\n",
      "Requirement already satisfied: jedi>=0.16 in /usr/local/anaconda3/lib/python3.9/site-packages (from ipython->py-heat-magic) (0.18.0)\n",
      "Requirement already satisfied: parso<0.9.0,>=0.8.0 in /usr/local/anaconda3/lib/python3.9/site-packages (from jedi>=0.16->ipython->py-heat-magic) (0.8.2)\n",
      "Requirement already satisfied: ptyprocess>=0.5 in /usr/local/anaconda3/lib/python3.9/site-packages (from pexpect>4.3->ipython->py-heat-magic) (0.7.0)\n",
      "Requirement already satisfied: wcwidth in /usr/local/anaconda3/lib/python3.9/site-packages (from prompt-toolkit!=3.0.0,!=3.0.1,<3.1.0,>=2.0.0->ipython->py-heat-magic) (0.2.5)\n",
      "Requirement already satisfied: qtconsole in /usr/local/anaconda3/lib/python3.9/site-packages (from jupyter->py-heat-magic) (5.1.1)\n",
      "Requirement already satisfied: ipykernel in /usr/local/anaconda3/lib/python3.9/site-packages (from jupyter->py-heat-magic) (6.4.1)\n",
      "Requirement already satisfied: notebook in /usr/local/anaconda3/lib/python3.9/site-packages (from jupyter->py-heat-magic) (6.4.5)\n",
      "Requirement already satisfied: ipywidgets in /usr/local/anaconda3/lib/python3.9/site-packages (from jupyter->py-heat-magic) (7.6.5)\n",
      "Requirement already satisfied: nbconvert in /usr/local/anaconda3/lib/python3.9/site-packages (from jupyter->py-heat-magic) (6.1.0)\n",
      "Requirement already satisfied: jupyter-console in /usr/local/anaconda3/lib/python3.9/site-packages (from jupyter->py-heat-magic) (6.4.0)\n",
      "Requirement already satisfied: jupyter-client<8.0 in /usr/local/anaconda3/lib/python3.9/site-packages (from ipykernel->jupyter->py-heat-magic) (6.1.12)\n",
      "Requirement already satisfied: tornado<7.0,>=4.2 in /usr/local/anaconda3/lib/python3.9/site-packages (from ipykernel->jupyter->py-heat-magic) (6.1)\n",
      "Requirement already satisfied: ipython-genutils in /usr/local/anaconda3/lib/python3.9/site-packages (from ipykernel->jupyter->py-heat-magic) (0.2.0)\n",
      "Requirement already satisfied: debugpy<2.0,>=1.0.0 in /usr/local/anaconda3/lib/python3.9/site-packages (from ipykernel->jupyter->py-heat-magic) (1.4.1)\n",
      "Requirement already satisfied: jupyter-core>=4.6.0 in /usr/local/anaconda3/lib/python3.9/site-packages (from jupyter-client<8.0->ipykernel->jupyter->py-heat-magic) (4.8.1)\n",
      "Requirement already satisfied: python-dateutil>=2.1 in /usr/local/anaconda3/lib/python3.9/site-packages (from jupyter-client<8.0->ipykernel->jupyter->py-heat-magic) (2.8.2)\n",
      "Requirement already satisfied: pyzmq>=13 in /usr/local/anaconda3/lib/python3.9/site-packages (from jupyter-client<8.0->ipykernel->jupyter->py-heat-magic) (22.2.1)\n",
      "Requirement already satisfied: six>=1.5 in /usr/local/anaconda3/lib/python3.9/site-packages (from python-dateutil>=2.1->jupyter-client<8.0->ipykernel->jupyter->py-heat-magic) (1.16.0)\n",
      "Requirement already satisfied: jupyterlab-widgets>=1.0.0 in /usr/local/anaconda3/lib/python3.9/site-packages (from ipywidgets->jupyter->py-heat-magic) (1.0.0)\n",
      "Requirement already satisfied: nbformat>=4.2.0 in /usr/local/anaconda3/lib/python3.9/site-packages (from ipywidgets->jupyter->py-heat-magic) (5.1.3)\n",
      "Requirement already satisfied: widgetsnbextension~=3.5.0 in /usr/local/anaconda3/lib/python3.9/site-packages (from ipywidgets->jupyter->py-heat-magic) (3.5.1)\n",
      "Requirement already satisfied: jsonschema!=2.5.0,>=2.4 in /usr/local/anaconda3/lib/python3.9/site-packages (from nbformat>=4.2.0->ipywidgets->jupyter->py-heat-magic) (3.2.0)\n",
      "Requirement already satisfied: attrs>=17.4.0 in /usr/local/anaconda3/lib/python3.9/site-packages (from jsonschema!=2.5.0,>=2.4->nbformat>=4.2.0->ipywidgets->jupyter->py-heat-magic) (21.2.0)\n",
      "Requirement already satisfied: pyrsistent>=0.14.0 in /usr/local/anaconda3/lib/python3.9/site-packages (from jsonschema!=2.5.0,>=2.4->nbformat>=4.2.0->ipywidgets->jupyter->py-heat-magic) (0.18.0)\n",
      "Requirement already satisfied: argon2-cffi in /usr/local/anaconda3/lib/python3.9/site-packages (from notebook->jupyter->py-heat-magic) (20.1.0)\n",
      "Requirement already satisfied: Send2Trash>=1.5.0 in /usr/local/anaconda3/lib/python3.9/site-packages (from notebook->jupyter->py-heat-magic) (1.8.0)\n",
      "Requirement already satisfied: terminado>=0.8.3 in /usr/local/anaconda3/lib/python3.9/site-packages (from notebook->jupyter->py-heat-magic) (0.9.4)\n",
      "Requirement already satisfied: jinja2 in /usr/local/anaconda3/lib/python3.9/site-packages (from notebook->jupyter->py-heat-magic) (2.11.3)\n",
      "Requirement already satisfied: prometheus-client in /usr/local/anaconda3/lib/python3.9/site-packages (from notebook->jupyter->py-heat-magic) (0.11.0)\n",
      "Requirement already satisfied: cffi>=1.0.0 in /usr/local/anaconda3/lib/python3.9/site-packages (from argon2-cffi->notebook->jupyter->py-heat-magic) (1.14.6)\n",
      "Requirement already satisfied: pycparser in /usr/local/anaconda3/lib/python3.9/site-packages (from cffi>=1.0.0->argon2-cffi->notebook->jupyter->py-heat-magic) (2.20)\n",
      "Requirement already satisfied: MarkupSafe>=0.23 in /usr/local/anaconda3/lib/python3.9/site-packages (from jinja2->notebook->jupyter->py-heat-magic) (1.1.1)\n",
      "Requirement already satisfied: pillow>=6.2.0 in /usr/local/anaconda3/lib/python3.9/site-packages (from matplotlib->py-heat-magic) (8.4.0)\n",
      "Requirement already satisfied: kiwisolver>=1.0.1 in /usr/local/anaconda3/lib/python3.9/site-packages (from matplotlib->py-heat-magic) (1.3.1)\n",
      "Requirement already satisfied: cycler>=0.10 in /usr/local/anaconda3/lib/python3.9/site-packages (from matplotlib->py-heat-magic) (0.10.0)\n",
      "Requirement already satisfied: pyparsing>=2.2.1 in /usr/local/anaconda3/lib/python3.9/site-packages (from matplotlib->py-heat-magic) (3.0.4)\n",
      "Requirement already satisfied: bleach in /usr/local/anaconda3/lib/python3.9/site-packages (from nbconvert->jupyter->py-heat-magic) (4.0.0)\n",
      "Requirement already satisfied: jupyterlab-pygments in /usr/local/anaconda3/lib/python3.9/site-packages (from nbconvert->jupyter->py-heat-magic) (0.1.2)\n",
      "Requirement already satisfied: testpath in /usr/local/anaconda3/lib/python3.9/site-packages (from nbconvert->jupyter->py-heat-magic) (0.5.0)\n",
      "Requirement already satisfied: nbclient<0.6.0,>=0.5.0 in /usr/local/anaconda3/lib/python3.9/site-packages (from nbconvert->jupyter->py-heat-magic) (0.5.3)\n",
      "Requirement already satisfied: pandocfilters>=1.4.1 in /usr/local/anaconda3/lib/python3.9/site-packages (from nbconvert->jupyter->py-heat-magic) (1.4.3)\n",
      "Requirement already satisfied: entrypoints>=0.2.2 in /usr/local/anaconda3/lib/python3.9/site-packages (from nbconvert->jupyter->py-heat-magic) (0.3)\n",
      "Requirement already satisfied: mistune<2,>=0.8.1 in /usr/local/anaconda3/lib/python3.9/site-packages (from nbconvert->jupyter->py-heat-magic) (0.8.4)\n",
      "Requirement already satisfied: defusedxml in /usr/local/anaconda3/lib/python3.9/site-packages (from nbconvert->jupyter->py-heat-magic) (0.7.1)\n",
      "Requirement already satisfied: nest-asyncio in /usr/local/anaconda3/lib/python3.9/site-packages (from nbclient<0.6.0,>=0.5.0->nbconvert->jupyter->py-heat-magic) (1.5.1)\n",
      "Requirement already satisfied: async-generator in /usr/local/anaconda3/lib/python3.9/site-packages (from nbclient<0.6.0,>=0.5.0->nbconvert->jupyter->py-heat-magic) (1.10)\n",
      "Requirement already satisfied: webencodings in /usr/local/anaconda3/lib/python3.9/site-packages (from bleach->nbconvert->jupyter->py-heat-magic) (0.5.1)\n",
      "Requirement already satisfied: packaging in /usr/local/anaconda3/lib/python3.9/site-packages (from bleach->nbconvert->jupyter->py-heat-magic) (21.0)\n",
      "Requirement already satisfied: pytz>=2017.3 in /usr/local/anaconda3/lib/python3.9/site-packages (from pandas->py-heat-magic) (2021.3)\n",
      "Requirement already satisfied: pprofile in /usr/local/anaconda3/lib/python3.9/site-packages (from py-heat->py-heat-magic) (2.1.0)\n",
      "Requirement already satisfied: qtpy in /usr/local/anaconda3/lib/python3.9/site-packages (from qtconsole->jupyter->py-heat-magic) (1.10.0)\n",
      "Requirement already satisfied: mpmath>=0.19 in /usr/local/anaconda3/lib/python3.9/site-packages (from sympy->py-heat-magic) (1.2.1)\n"
     ]
    }
   ],
   "source": [
    "!pip install py-heat-magic\n",
    "%load_ext heat"
   ]
  },
  {
   "cell_type": "code",
   "execution_count": null,
   "metadata": {},
   "outputs": [],
   "source": []
  },
  {
   "cell_type": "code",
   "execution_count": 2,
   "metadata": {},
   "outputs": [
    {
     "name": "stdout",
     "output_type": "stream",
     "text": [
      "{1300: '1300', 1325: '1325', 1350: '1350', 1375: '1375', 1400: '1400', 1425: '1425', 1450: '1450', 1475: '1475', 1500: '1500', 1525: '1525', 1550: '1550'}\n",
      "Loading images for period 1300...\n"
     ]
    },
    {
     "name": "stderr",
     "output_type": "stream",
     "text": [
      "/Users/wasabi/capstone/lib.py:270: FutureWarning: The behavior of rgb2gray will change in scikit-image 0.19. Currently, rgb2gray allows 2D grayscale image to be passed as inputs and leaves them unmodified as outputs. Starting from version 0.19, 2D arrays will be treated as 1D images with 3 channels.\n",
      "  image = color.rgb2gray(image)\n"
     ]
    },
    {
     "name": "stdout",
     "output_type": "stream",
     "text": [
      "Computing features for period 1300...\n",
      "image\n",
      "Time taken by function: 0.21883702278137207\n",
      "image\n",
      "Time taken by function: 5.303681135177612\n",
      "image\n",
      "Time taken by function: 2.778115749359131\n",
      "image\n",
      "Time taken by function: 0.9168848991394043\n",
      "image\n",
      "Time taken by function: 4.7795209884643555\n",
      "image\n",
      "Time taken by function: 0.8555071353912354\n",
      "image\n",
      "Time taken by function: 0.7194409370422363\n",
      "image\n",
      "Time taken by function: 0.7835118770599365\n",
      "image\n",
      "Time taken by function: 1.0934557914733887\n",
      "image\n",
      "Time taken by function: 1.9696152210235596\n",
      "image\n",
      "Time taken by function: 3.394556999206543\n",
      "image\n",
      "Time taken by function: 0.04070401191711426\n",
      "image\n",
      "Time taken by function: 1.223832130432129\n",
      "image\n",
      "Time taken by function: 1.123396873474121\n",
      "image\n",
      "Time taken by function: 3.052773952484131\n",
      "image\n",
      "Time taken by function: 2.4118099212646484\n",
      "image\n",
      "Time taken by function: 1.6572363376617432\n",
      "image\n",
      "Time taken by function: 0.05659604072570801\n",
      "image\n",
      "Time taken by function: 3.5288608074188232\n",
      "image\n",
      "Time taken by function: 1.0693800449371338\n",
      "image\n",
      "Time taken by function: 5.326094150543213\n"
     ]
    }
   ],
   "source": [
    "'''%%heat\n",
    "from lib import *\n",
    "import numpy as np\n",
    "import os\n",
    "# get all the folders in the dataset except the ones that start with a dot\n",
    "folders_list = sorted([folder for folder in os.listdir('resized') if not folder.startswith('.')])\n",
    "# assign a period to each folder\n",
    "periods = {1300+idx*25: folder for idx, folder in enumerate(folders_list)}\n",
    "print(periods)\n",
    "\n",
    "from sklearn.model_selection import train_test_split\n",
    "for period, folder in periods.items():\n",
    "    dataset = get_images(period, folder)\n",
    "    x_train, y_train, x_test, y_test = train_test_split(dataset[:, 0], dataset[:, 1], test_size=0.2)\n",
    "    # store x_train under the directory of train\n",
    "    np.save(f'train/paths/{period}', x_train, allow_pickle=True)\n",
    "    # store x_train under the directory of test\n",
    "    np.save(f'test/paths/{period}', x_test, allow_pickle=True)\n",
    "\n",
    "periods = [1300 + index * 25 for index in range(11)]\n",
    "for period in periods:\n",
    "    image_paths = np.load(f'train/paths/{period}.npy', allow_pickle=True)\n",
    "    print(f'Loading images for period {period}...')\n",
    "    binary_images = np.array(list(map(load_image_binarize, image_paths)), dtype=object)\n",
    "    print(f'Computing features for period {period}...')\n",
    "    features_of_period = np.array(list(map(get_psd, binary_images)), dtype=object)\n",
    "    break\n",
    "    np.save(f'train/features/{period}', features_of_period, allow_pickle=True)'''\n"
   ]
  },
  {
   "cell_type": "code",
   "execution_count": 5,
   "metadata": {},
   "outputs": [],
   "source": [
    "import matplotlib\n",
    "import matplotlib.pyplot as plt\n",
    "from skimage import io, color\n",
    "from skimage.filters import (threshold_otsu, threshold_niblack, threshold_sauvola)\n",
    "from skimage.util import invert\n",
    "from skimage.morphology import skeletonize\n",
    "import numpy as np\n",
    "import scipy.ndimage as ndi\n",
    "from skimage import measure\n",
    "from skimage import img_as_ubyte\n",
    "import concurrent.futures\n",
    "import os\n",
    "import cv2\n",
    "e = 7\n",
    "min_frag_size = 2*e+2\n",
    "import time"
   ]
  },
  {
   "cell_type": "code",
   "execution_count": null,
   "metadata": {},
   "outputs": [],
   "source": [
    "import numpy as np\n",
    "import matplotlib.pyplot as plt\n",
    "def checkboundary(x, y, w, h):\n",
    "    return x >= 0 and x < w and y >= 0 and y < h\n",
    "def experiment(skeleton):\n",
    "    h, w = skeleton.shape\n",
    "    used = np.full(h * w, False)\n",
    "    fragments = []\n",
    "\n",
    "    for y in range(h):\n",
    "        for x in range(w):\n",
    "            if skeleton[y, x] and not used[y * w + x]:\n",
    "                tmplist = []\n",
    "                stack = [np.array([y, x])]\n",
    "\n",
    "                while stack:\n",
    "                    cy, cx = stack.pop()\n",
    "\n",
    "                    if used[cy * w + cx]:\n",
    "                        continue\n",
    "\n",
    "                    used[cy * w + cx] = True\n",
    "                    tmplist.append(np.array([cy, cx]))\n",
    "\n",
    "                    nCnt = 0\n",
    "                    for sy in range(-1, 2):\n",
    "                        for sx in range(-1, 2):\n",
    "                            if checkboundary(cx + sx, cy + sy, w, h) and skeleton[cy + sy][cx + sx]:\n",
    "                                nCnt += 1\n",
    "                                stack.append(np.array([cy + sy, cx + sx]))\n",
    "\n",
    "                    if nCnt == 2 or nCnt > 3:\n",
    "                        fragments.append(tmplist)\n",
    "                        break\n",
    "    return fragments\n"
   ]
  },
  {
   "cell_type": "code",
   "execution_count": 6,
   "metadata": {},
   "outputs": [
    {
     "data": {
      "image/png": "[encoded data removed]",
      "text/plain": [
       "<Figure size 432x288 with 1 Axes>"
      ]
     },
     "metadata": {
      "needs_background": "light"
     },
     "output_type": "display_data"
    }
   ],
   "source": [
    "from lib import *\n",
    "import matplotlib.pyplot as plt\n",
    "\n",
    "image_path = 'dev_images/ali_lmalki.jpeg'\n",
    "image = load_image_binarize(image_path)\n",
    "skeleton = skeletonize(invert(image))\n",
    "opencv_skeleton = skimage_to_opencv(skeleton)\n",
    "fragments = extract_fragments(opencv_skeleton, opencv_connected_components(opencv_skeleton))\n",
    "minima = extract_angles_minima(skeleton, fragments, e)\n",
    "\n",
    "fig, ax = plt.subplots()\n",
    "ax.imshow(skeleton, cmap='gray')\n",
    "\n",
    "# Plot markers at locations of minima\n",
    "for idx in minima:\n",
    "    y, x = idx  # Switch to (x, y) coordinates for plotting\n",
    "    ax.scatter(x, y, c='r', s=10)\n",
    "\n",
    "plt.show()\n"
   ]
  },
  {
   "cell_type": "code",
   "execution_count": null,
   "metadata": {},
   "outputs": [],
   "source": [
    "\n",
    "\n",
    "\n"
   ]
  }
 ],
 "metadata": {
  "kernelspec": {
   "display_name": "Python 3",
   "language": "python",
   "name": "python3"
  },
  "language_info": {
   "codemirror_mode": {
    "name": "ipython",
    "version": 3
   },
   "file_extension": ".py",
   "mimetype": "text/x-python",
   "name": "python",
   "nbconvert_exporter": "python",
   "pygments_lexer": "ipython3",
   "version": "3.9.7"
  },
  "orig_nbformat": 4
 },
 "nbformat": 4,
 "nbformat_minor": 2
}
